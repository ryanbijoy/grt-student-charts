{
 "cells": [
  {
   "cell_type": "markdown",
   "id": "30e3ad17",
   "metadata": {},
   "source": [
    "# Student Individual Graph"
   ]
  },
  {
   "cell_type": "code",
   "execution_count": 4,
   "id": "faabeb6d",
   "metadata": {},
   "outputs": [],
   "source": [
    "import matplotlib.pyplot as plt\n",
    "import pandas as pd\n",
    "import numpy as np"
   ]
  },
  {
   "cell_type": "code",
   "execution_count": 5,
   "id": "742dea6f",
   "metadata": {
    "scrolled": true
   },
   "outputs": [
    {
     "name": "stdout",
     "output_type": "stream",
     "text": [
      "Mary 61 79 100 57 68 75\n",
      "Robert 48 89 72 34 96 55\n",
      "Elizabeth 96 89 37 99 70 40\n",
      "Jennifer 57 87 82 96 79 44\n",
      "Charles 84 65 98 52 44 67\n",
      "Lisa 46 96 89 39 82 53\n",
      "Daniel 81 39 55 48 83 51\n",
      "Donald 57 76 58 36 69 40\n",
      "George 52 46 81 57 66 63\n",
      "Donna 62 78 97 49 52 70\n",
      "Carol 97 58 55 34 63 41\n",
      "Ruth 43 60 50 98 40 95\n",
      "Jason 40 91 87 98 80 95\n",
      "Matthew 58 42 89 86 37 86\n",
      "Jessica 99 88 38 89 51 86\n",
      "Gary 42 36 62 37 39 88\n",
      "Jose 52 49 76 36 54 49\n",
      "Brenda 90 83 49 70 52 70\n",
      "Frank 92 37 80 45 62 85\n",
      "Kathleen 67 83 57 95 61 56\n",
      "Joshua 66 65 95 47 63 49\n",
      "Debra 47 35 37 40 70 65\n",
      "Jerry 88 53 81 40 92 54\n",
      "Williams 49 35 37 73 42 68\n",
      "Brown 34 73 62 52 54 67\n",
      "Wilson 59 80 65 70 96 76\n",
      "Moore 52 62 82 96 40 76\n",
      "Price 88 40 51 61 96 85\n",
      "Wood 69 52 63 42 56 48\n",
      "Coleman 36 36 77 84 68 80\n",
      "Perry 84 98 97 41 88 38\n",
      "Steele 61 87 97 50 54 96\n",
      "Schultz 78 65 43 49 58 75\n",
      "Munoz 58 72 73 79 88 80\n",
      "Chandler 70 51 74 69 76 94\n",
      "Small 89 87 97 81 46 91\n",
      "Hensley 72 51 88 63 57 93\n",
      "Grimes 47 56 90 76 81 43\n",
      "Baxter 62 75 45 82 71 81\n",
      "Morin 51 48 59 66 84 90\n",
      "Tillman 87 98 49 69 49 50\n",
      "Huber 38 65 80 44 84 58\n",
      "Boyle 76 95 82 54 80 95\n",
      "Buckner 98 51 99 53 99 53\n",
      "Knowles 78 64 59 79 44 93\n",
      "Velazquez 37 96 49 67 41 72\n",
      "Vang 60 34 50 38 49 35\n"
     ]
    },
    {
     "data": {
      "text/plain": [
       "<Figure size 2400x1600 with 0 Axes>"
      ]
     },
     "metadata": {},
     "output_type": "display_data"
    }
   ],
   "source": [
    "student = pd.read_json(\"student-data.json\")\n",
    "subjects = [\"Maths\", \"Science\", \"English\", \"SST\", \"Hindi\", \"IT\"]\n",
    "plt.figure(figsize=(6,4), dpi=400)\n",
    "\n",
    "\n",
    "for i in range(0, len(student[\"Student Name\"])):\n",
    "    print(student[\"Student Name\"][i], student[\"Maths\"][i], student[\"Science\"][i], student[\"English\"][i], student[\"SST\"][i], student[\"Hindi\"][i], student[\"IT\"][i])\n",
    "        \n",
    "    plt.title(\"Marks Obtained\", fontsize=16, fontweight=\"bold\")\n",
    "    plt.xlabel(\"Name Of Subjects\", fontweight=\"bold\")\n",
    "\n",
    "    values = [student[\"Maths\"][i], student[\"Science\"][i], student[\"English\"][i], student[\"SST\"][i], student[\"Hindi\"][i], student[\"IT\"][i]]\n",
    "    student_name = student[\"Student Name\"][i]\n",
    "    \n",
    "    bar = plt.bar(subjects, values, color=\"#f5ad27\")\n",
    "    plt.yticks([])\n",
    "    \n",
    "    for p in bar:\n",
    "        height = p.get_height()\n",
    "        plt.text(x=p.get_x() + p.get_width() / 2, y=height+.90, s=format(height), ha='center')\n",
    "        \n",
    "        \n",
    "    plt.savefig(f\"student-graphs/#{i + 1}_{student_name}_data.png\")\n",
    "    plt.clf()    \n",
    "    \n",
    "plt.show()"
   ]
  },
  {
   "cell_type": "markdown",
   "id": "d3080845",
   "metadata": {},
   "source": [
    "# Short code but non-flexible"
   ]
  },
  {
   "cell_type": "code",
   "execution_count": 83,
   "id": "628e7ecf",
   "metadata": {
    "scrolled": true
   },
   "outputs": [
    {
     "name": "stdout",
     "output_type": "stream",
     "text": [
      "Vang\n"
     ]
    },
    {
     "data": {
      "image/png": "[encoded data removed]",
      "text/plain": [
       "<Figure size 640x480 with 1 Axes>"
      ]
     },
     "metadata": {},
     "output_type": "display_data"
    }
   ],
   "source": [
    "student = pd.read_json(\"student-data.json\")\n",
    "student = student.reset_index(drop=True)\n",
    "\n",
    "\n",
    "plt.bar(list(student.iloc[:1, 1:7]), list(student.iloc[i, 1:7]))\n",
    "\n",
    "print(student.iloc[i][\"Student Name\"])\n",
    "    \n",
    "plt.show()"
   ]
  }
 ],
 "metadata": {
  "kernelspec": {
   "display_name": "Python 3 (ipykernel)",
   "language": "python",
   "name": "python3"
  },
  "language_info": {
   "codemirror_mode": {
    "name": "ipython",
    "version": 3
   },
   "file_extension": ".py",
   "mimetype": "text/x-python",
   "name": "python",
   "nbconvert_exporter": "python",
   "pygments_lexer": "ipython3",
   "version": "3.10.9"
  }
 },
 "nbformat": 4,
 "nbformat_minor": 5
}
